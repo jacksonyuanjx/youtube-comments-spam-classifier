{
  "nbformat": 4,
  "nbformat_minor": 0,
  "metadata": {
    "colab": {
      "name": "YouTube Comments Spam Classifier",
      "provenance": [],
      "collapsed_sections": []
    },
    "kernelspec": {
      "name": "python3",
      "display_name": "Python 3"
    }
  },
  "cells": [
    {
      "cell_type": "code",
      "metadata": {
        "id": "2qV4xE-HKqqO"
      },
      "source": [
        "# [1]*10**10"
      ],
      "execution_count": 1,
      "outputs": []
    },
    {
      "cell_type": "markdown",
      "metadata": {
        "id": "QEmoHZ-_fjic"
      },
      "source": [
        "Handle Imports"
      ]
    },
    {
      "cell_type": "code",
      "metadata": {
        "id": "EaR3fO3vaMvv"
      },
      "source": [
        "import numpy as np\n",
        "import pandas as pd\n",
        "import matplotlib.pyplot as plt\n",
        "import zipfile\n",
        "import pickle\n",
        "\n",
        "from sklearn.model_selection import train_test_split\n",
        "from sklearn.feature_extraction.text import CountVectorizer, TfidfTransformer\n",
        "\n",
        "from sklearn.naive_bayes import MultinomialNB\n",
        "\n",
        "from sklearn.metrics import confusion_matrix, classification_report, accuracy_score"
      ],
      "execution_count": 2,
      "outputs": []
    },
    {
      "cell_type": "code",
      "metadata": {
        "colab": {
          "base_uri": "https://localhost:8080/"
        },
        "id": "HAC0R5pc8cU5",
        "outputId": "3c71effc-78b5-4d41-fc5a-46024d4482b9"
      },
      "source": [
        "from google.colab import drive\n",
        "drive.mount('/content/drive')"
      ],
      "execution_count": 3,
      "outputs": [
        {
          "output_type": "stream",
          "text": [
            "Drive already mounted at /content/drive; to attempt to forcibly remount, call drive.mount(\"/content/drive\", force_remount=True).\n"
          ],
          "name": "stdout"
        }
      ]
    },
    {
      "cell_type": "markdown",
      "metadata": {
        "id": "Wy4JR9ATffU4"
      },
      "source": [
        "Import dataset files from Google Drive"
      ]
    },
    {
      "cell_type": "code",
      "metadata": {
        "id": "9ooTCnz7avT0"
      },
      "source": [
        "z = zipfile.ZipFile(\"/content/drive/MyDrive/YouTube-Spam-Collection-v1.zip\")\n",
        "Psy = pd.read_csv(z.open(\"Youtube01-Psy.csv\"))\n",
        "Katy = pd.read_csv(z.open(\"Youtube02-KatyPerry.csv\"))\n",
        "LMFAO = pd.read_csv(z.open(\"Youtube03-LMFAO.csv\"))\n",
        "Eminem = pd.read_csv(z.open(\"Youtube04-Eminem.csv\"))\n",
        "Shakira = pd.read_csv(z.open(\"Youtube05-Shakira.csv\"))"
      ],
      "execution_count": 4,
      "outputs": []
    },
    {
      "cell_type": "code",
      "metadata": {
        "colab": {
          "base_uri": "https://localhost:8080/",
          "height": 195
        },
        "id": "uoLBKbz85m1A",
        "outputId": "06676dd6-aa8d-4cb0-90a4-eb80bb9bc671"
      },
      "source": [
        "data = pd.concat([Psy, Katy, LMFAO, Eminem, Shakira])\n",
        "data.drop([\"COMMENT_ID\", \"DATE\", \"AUTHOR\"], axis=1, inplace=True)\n",
        "\n",
        "data.shape\n",
        "data.head(5)"
      ],
      "execution_count": 5,
      "outputs": [
        {
          "output_type": "execute_result",
          "data": {
            "text/html": [
              "<div>\n",
              "<style scoped>\n",
              "    .dataframe tbody tr th:only-of-type {\n",
              "        vertical-align: middle;\n",
              "    }\n",
              "\n",
              "    .dataframe tbody tr th {\n",
              "        vertical-align: top;\n",
              "    }\n",
              "\n",
              "    .dataframe thead th {\n",
              "        text-align: right;\n",
              "    }\n",
              "</style>\n",
              "<table border=\"1\" class=\"dataframe\">\n",
              "  <thead>\n",
              "    <tr style=\"text-align: right;\">\n",
              "      <th></th>\n",
              "      <th>CONTENT</th>\n",
              "      <th>CLASS</th>\n",
              "    </tr>\n",
              "  </thead>\n",
              "  <tbody>\n",
              "    <tr>\n",
              "      <th>0</th>\n",
              "      <td>Huh, anyway check out this you[tube] channel: ...</td>\n",
              "      <td>1</td>\n",
              "    </tr>\n",
              "    <tr>\n",
              "      <th>1</th>\n",
              "      <td>Hey guys check out my new channel and our firs...</td>\n",
              "      <td>1</td>\n",
              "    </tr>\n",
              "    <tr>\n",
              "      <th>2</th>\n",
              "      <td>just for test I have to say murdev.com</td>\n",
              "      <td>1</td>\n",
              "    </tr>\n",
              "    <tr>\n",
              "      <th>3</th>\n",
              "      <td>me shaking my sexy ass on my channel enjoy ^_^ ﻿</td>\n",
              "      <td>1</td>\n",
              "    </tr>\n",
              "    <tr>\n",
              "      <th>4</th>\n",
              "      <td>watch?v=vtaRGgvGtWQ   Check this out .﻿</td>\n",
              "      <td>1</td>\n",
              "    </tr>\n",
              "  </tbody>\n",
              "</table>\n",
              "</div>"
            ],
            "text/plain": [
              "                                             CONTENT  CLASS\n",
              "0  Huh, anyway check out this you[tube] channel: ...      1\n",
              "1  Hey guys check out my new channel and our firs...      1\n",
              "2             just for test I have to say murdev.com      1\n",
              "3   me shaking my sexy ass on my channel enjoy ^_^ ﻿      1\n",
              "4            watch?v=vtaRGgvGtWQ   Check this out .﻿      1"
            ]
          },
          "metadata": {
            "tags": []
          },
          "execution_count": 5
        }
      ]
    },
    {
      "cell_type": "code",
      "metadata": {
        "id": "t5jrmaMK8vyc",
        "colab": {
          "base_uri": "https://localhost:8080/"
        },
        "outputId": "128dbdf3-5f7c-49a5-c034-d976a6a26c2b"
      },
      "source": [
        "data.info()"
      ],
      "execution_count": 6,
      "outputs": [
        {
          "output_type": "stream",
          "text": [
            "<class 'pandas.core.frame.DataFrame'>\n",
            "Int64Index: 1956 entries, 0 to 369\n",
            "Data columns (total 2 columns):\n",
            " #   Column   Non-Null Count  Dtype \n",
            "---  ------   --------------  ----- \n",
            " 0   CONTENT  1956 non-null   object\n",
            " 1   CLASS    1956 non-null   int64 \n",
            "dtypes: int64(1), object(1)\n",
            "memory usage: 45.8+ KB\n"
          ],
          "name": "stdout"
        }
      ]
    },
    {
      "cell_type": "markdown",
      "metadata": {
        "id": "Im-iQevJf72q"
      },
      "source": [
        "Splitting dataset into train/test sets"
      ]
    },
    {
      "cell_type": "code",
      "metadata": {
        "id": "W6h45yA5qSa6"
      },
      "source": [
        "X_train, X_test, y_train, y_test = train_test_split(data[\"CONTENT\"], data[\"CLASS\"]) # uses 75% train and 25% test split by default"
      ],
      "execution_count": 109,
      "outputs": []
    },
    {
      "cell_type": "code",
      "metadata": {
        "id": "qJUYn4dFwQpH"
      },
      "source": [
        "# tokenizing text and removing stop-words\n",
        "vectorizer = CountVectorizer(lowercase=True)\n",
        "X_train_counts = vectorizer.fit_transform(X_train)\n",
        "# print(X_train_counts[1,:])"
      ],
      "execution_count": 110,
      "outputs": []
    },
    {
      "cell_type": "code",
      "metadata": {
        "colab": {
          "base_uri": "https://localhost:8080/"
        },
        "id": "RuR0kFSJxbnX",
        "outputId": "03d3da0f-d653-4398-ce82-071ad1bd4099"
      },
      "source": [
        "print(vectorizer.get_stop_words())"
      ],
      "execution_count": 111,
      "outputs": [
        {
          "output_type": "stream",
          "text": [
            "None\n"
          ],
          "name": "stdout"
        }
      ]
    },
    {
      "cell_type": "code",
      "metadata": {
        "colab": {
          "base_uri": "https://localhost:8080/"
        },
        "id": "dWOSBOPd9vTP",
        "outputId": "2764676f-1083-4787-96d0-f7724b6e41c5"
      },
      "source": [
        "tf_transformer = TfidfTransformer(use_idf=True)\n",
        "X_train_tfidf = tf_transformer.fit_transform(X_train_counts)\n",
        "X_train_tfidf.shape"
      ],
      "execution_count": 112,
      "outputs": [
        {
          "output_type": "execute_result",
          "data": {
            "text/plain": [
              "(1467, 3711)"
            ]
          },
          "metadata": {
            "tags": []
          },
          "execution_count": 112
        }
      ]
    },
    {
      "cell_type": "code",
      "metadata": {
        "colab": {
          "base_uri": "https://localhost:8080/"
        },
        "id": "f3M6UjFazsd-",
        "outputId": "a11c2256-41a4-4581-c597-98e8ec1a2118"
      },
      "source": [
        "# training the Multinomial Naive Bayes model\n",
        "model = MultinomialNB()\n",
        "model.fit(X_train_tfidf, y_train)"
      ],
      "execution_count": 113,
      "outputs": [
        {
          "output_type": "execute_result",
          "data": {
            "text/plain": [
              "MultinomialNB(alpha=1.0, class_prior=None, fit_prior=True)"
            ]
          },
          "metadata": {
            "tags": []
          },
          "execution_count": 113
        }
      ]
    },
    {
      "cell_type": "code",
      "metadata": {
        "id": "U97kPKmaDDhH"
      },
      "source": [
        "# perform same feature extraction on test set\n",
        "X_test_counts = vectorizer.transform(X_test)\n",
        "X_test_tfidf = tf_transformer.transform(X_test_counts)\n",
        "\n",
        "# make predictions on the test set\n",
        "predictions = model.predict(X_test_tfidf)"
      ],
      "execution_count": 117,
      "outputs": []
    },
    {
      "cell_type": "code",
      "metadata": {
        "colab": {
          "base_uri": "https://localhost:8080/"
        },
        "id": "3PZIfWfp5SP-",
        "outputId": "9e13af65-9ed1-4bea-c7f1-6e71c8b4c2ad"
      },
      "source": [
        "# generate confusion matrix\n",
        "confusion_matrix(y_test, predictions)"
      ],
      "execution_count": 118,
      "outputs": [
        {
          "output_type": "execute_result",
          "data": {
            "text/plain": [
              "array([[207,  23],\n",
              "       [ 12, 247]])"
            ]
          },
          "metadata": {
            "tags": []
          },
          "execution_count": 118
        }
      ]
    },
    {
      "cell_type": "code",
      "metadata": {
        "colab": {
          "base_uri": "https://localhost:8080/"
        },
        "id": "lULLl_BVEt_w",
        "outputId": "f7e5be59-c267-4e70-e5c7-1a4cc5dab92e"
      },
      "source": [
        "print(classification_report(y_test, predictions))"
      ],
      "execution_count": 119,
      "outputs": [
        {
          "output_type": "stream",
          "text": [
            "              precision    recall  f1-score   support\n",
            "\n",
            "           0       0.95      0.90      0.92       230\n",
            "           1       0.91      0.95      0.93       259\n",
            "\n",
            "    accuracy                           0.93       489\n",
            "   macro avg       0.93      0.93      0.93       489\n",
            "weighted avg       0.93      0.93      0.93       489\n",
            "\n"
          ],
          "name": "stdout"
        }
      ]
    },
    {
      "cell_type": "code",
      "metadata": {
        "id": "o-KSnj2JGEFR"
      },
      "source": [
        "# exporting model to pickle file\n",
        "with open(\"model.pkl\", \"wb\") as model_file:\n",
        "  pickle.dump(model, model_file)"
      ],
      "execution_count": 120,
      "outputs": []
    },
    {
      "cell_type": "code",
      "metadata": {
        "colab": {
          "base_uri": "https://localhost:8080/"
        },
        "id": "WMgxOgDrCU1j",
        "outputId": "2edf1a2d-0dc5-4d5c-f59c-cce825ab2d0d"
      },
      "source": [
        "# loading the model\n",
        "with open(\"model.pkl\", \"rb\") as model_file:\n",
        "  loaded_model = pickle.load(model_file)\n",
        "loaded_model\n",
        "loaded_model.score(X_test_tfidf, y_test)"
      ],
      "execution_count": 121,
      "outputs": [
        {
          "output_type": "execute_result",
          "data": {
            "text/plain": [
              "0.9284253578732107"
            ]
          },
          "metadata": {
            "tags": []
          },
          "execution_count": 121
        }
      ]
    },
    {
      "cell_type": "code",
      "metadata": {
        "colab": {
          "base_uri": "https://localhost:8080/"
        },
        "id": "bJjWHQ_PDWG3",
        "outputId": "585d95a5-a0b7-41e3-9dcc-fe48de5a3f0b"
      },
      "source": [
        "# testing the model with our own test comments\n",
        "comment = 'facebook.com'\n",
        "test_df = pd.DataFrame(data=[[comment]], columns=['CONTENT'])\n",
        "test_df\n",
        "\n",
        "test_comm_counts = vectorizer.transform(test_df['CONTENT']) # TODO: FIGURE OUT why we need access 'content' here..\n",
        "# vectorizer.get_feature_names()\n",
        "# test_comm_counts.toarray() # log and learn what this actually represents!\n",
        "test_comm_tfidf = tf_transformer.transform(test_comm_counts) # learn the diff between this and test_comm_counts\n",
        "loaded_model.predict(test_comm_tfidf)\n",
        "\n",
        "# TODO: need to export vectorizer and reload?\n",
        "# https://stackoverflow.com/questions/29788047/keep-tfidf-result-for-predicting-new-content-using-scikit-for-python\n"
      ],
      "execution_count": 122,
      "outputs": [
        {
          "output_type": "execute_result",
          "data": {
            "text/plain": [
              "array([1])"
            ]
          },
          "metadata": {
            "tags": []
          },
          "execution_count": 122
        }
      ]
    },
    {
      "cell_type": "code",
      "metadata": {
        "colab": {
          "base_uri": "https://localhost:8080/"
        },
        "id": "rjI-6PA3GjiM",
        "outputId": "5a534876-2140-4351-8c0a-6a5e30405410"
      },
      "source": [
        "data.loc[data['CLASS'] == 0]\n",
        "# data.iloc[7]\n",
        "correct_preds_inds = np.where(loaded_model.predict(X_test_tfidf) == y_test)\n",
        "# correct_preds_inds[0]\n",
        "correct_preds_ham_inds = np.where(y_test.iloc[correct_preds_inds[0]] == 0)\n",
        "correct_preds_ham_inds\n",
        "correct_preds = X_test.iloc[correct_preds_ham_inds[0]]\n",
        "correct_preds\n",
        "# X_test.iloc[0]\n",
        "# data.iloc[53]"
      ],
      "execution_count": 123,
      "outputs": [
        {
          "output_type": "execute_result",
          "data": {
            "text/plain": [
              "98                               Are those real animals﻿\n",
              "78     This song is special, because is a song for Af...\n",
              "155    What free gift cards? Go here  http://www.swag...\n",
              "198                              Check out my channel :)\n",
              "158                              I like this song<br />﻿\n",
              "                             ...                        \n",
              "116                                           waka waka﻿\n",
              "6      Subscribe pleaaaase to my instagram account , ...\n",
              "96     this video is very inaccurate, a tiger would r...\n",
              "37                                       Love this song﻿\n",
              "24     I really love this video.. http://www.bubblews...\n",
              "Name: CONTENT, Length: 207, dtype: object"
            ]
          },
          "metadata": {
            "tags": []
          },
          "execution_count": 123
        }
      ]
    },
    {
      "cell_type": "code",
      "metadata": {
        "id": "onf2TDMeWKUN"
      },
      "source": [
        "# (loaded_model.predict(X_test_tfidf) == y_test).index\n",
        "# data.loc[237]"
      ],
      "execution_count": 128,
      "outputs": []
    },
    {
      "cell_type": "code",
      "metadata": {
        "id": "iQOC89GVZm_r",
        "colab": {
          "base_uri": "https://localhost:8080/"
        },
        "outputId": "a25fd2c7-e7b7-4979-dfad-5685cd26368d"
      },
      "source": [
        "from sklearn.model_selection import cross_val_score\n",
        "\n",
        "cv_scores = cross_val_score(loaded_model, X_train_tfidf, y_train, cv=10)\n",
        "cv_scores.mean()\n",
        "\n",
        "# cv example:\n",
        "# https://medium.com/@akshmahesh/detecting-spam-comments-on-youtube-using-machine-learning-948d54f47b3\n",
        "# https://github.com/AkshayLaddha943/Machine-Learning/blob/master/Youtube-Spam-Check/youtube-spam.py"
      ],
      "execution_count": 127,
      "outputs": [
        {
          "output_type": "execute_result",
          "data": {
            "text/plain": [
              "0.9215869909607679"
            ]
          },
          "metadata": {
            "tags": []
          },
          "execution_count": 127
        }
      ]
    }
  ]
}